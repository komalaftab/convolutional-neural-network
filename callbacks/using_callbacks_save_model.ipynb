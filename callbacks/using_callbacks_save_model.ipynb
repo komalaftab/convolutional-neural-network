{
  "nbformat": 4,
  "nbformat_minor": 0,
  "metadata": {
    "colab": {
      "name": "using_callbacks_save_model.ipynb",
      "provenance": []
    },
    "kernelspec": {
      "name": "python3",
      "display_name": "Python 3"
    },
    "accelerator": "GPU"
  },
  "cells": [
    {
      "cell_type": "code",
      "metadata": {
        "id": "Yk5SXhoipi3p",
        "colab_type": "code",
        "colab": {}
      },
      "source": [
        "pip install -q pyyaml h5py  # Required to save models in HDF5 format"
      ],
      "execution_count": 0,
      "outputs": []
    },
    {
      "cell_type": "code",
      "metadata": {
        "id": "YHcav8ydp2Ae",
        "colab_type": "code",
        "outputId": "161b5f05-fa81-4f58-a4ee-be899adde3d5",
        "colab": {
          "base_uri": "https://localhost:8080/",
          "height": 34
        }
      },
      "source": [
        "\n",
        "import os\n",
        "\n",
        "import tensorflow as tf\n",
        "from tensorflow import keras\n",
        "import pandas as pd\n",
        "\n",
        "print(tf.version.VERSION)"
      ],
      "execution_count": 2,
      "outputs": [
        {
          "output_type": "stream",
          "text": [
            "2.2.0-rc1\n"
          ],
          "name": "stdout"
        }
      ]
    },
    {
      "cell_type": "markdown",
      "metadata": {
        "id": "tNt06tWXpOUs",
        "colab_type": "text"
      },
      "source": [
        "**loading  data**"
      ]
    },
    {
      "cell_type": "code",
      "metadata": {
        "id": "_DICc4H6ehqh",
        "colab_type": "code",
        "colab": {
          "base_uri": "https://localhost:8080/",
          "height": 153
        },
        "outputId": "a562d19e-66cb-4f4b-9326-fdc5f9ee0531"
      },
      "source": [
        "fashion_mnist = tf.keras.datasets.fashion_mnist\n",
        "(train_images,train_labels),(test_images,test_labels) = fashion_mnist.load_data()"
      ],
      "execution_count": 3,
      "outputs": [
        {
          "output_type": "stream",
          "text": [
            "Downloading data from https://storage.googleapis.com/tensorflow/tf-keras-datasets/train-labels-idx1-ubyte.gz\n",
            "32768/29515 [=================================] - 0s 0us/step\n",
            "Downloading data from https://storage.googleapis.com/tensorflow/tf-keras-datasets/train-images-idx3-ubyte.gz\n",
            "26427392/26421880 [==============================] - 0s 0us/step\n",
            "Downloading data from https://storage.googleapis.com/tensorflow/tf-keras-datasets/t10k-labels-idx1-ubyte.gz\n",
            "8192/5148 [===============================================] - 0s 0us/step\n",
            "Downloading data from https://storage.googleapis.com/tensorflow/tf-keras-datasets/t10k-images-idx3-ubyte.gz\n",
            "4423680/4422102 [==============================] - 0s 0us/step\n"
          ],
          "name": "stdout"
        }
      ]
    },
    {
      "cell_type": "markdown",
      "metadata": {
        "id": "OfBjBRrSpWuK",
        "colab_type": "text"
      },
      "source": [
        "**Normalization**"
      ]
    },
    {
      "cell_type": "code",
      "metadata": {
        "id": "4Uo6RdIHei0R",
        "colab_type": "code",
        "colab": {}
      },
      "source": [
        "train_images  = train_images / 255.0\n",
        "test_images = test_images / 255.0"
      ],
      "execution_count": 0,
      "outputs": []
    },
    {
      "cell_type": "markdown",
      "metadata": {
        "id": "N8p1-IZopb9m",
        "colab_type": "text"
      },
      "source": [
        "**Create a model.**"
      ]
    },
    {
      "cell_type": "code",
      "metadata": {
        "id": "G_vyPP-0ejUn",
        "colab_type": "code",
        "colab": {}
      },
      "source": [
        "def create_model():\n",
        "  model = tf.keras.models.Sequential([tf.keras.layers.Flatten(), \n",
        "                                    tf.keras.layers.Dense(128, activation=tf.nn.relu), \n",
        "                                    tf.keras.layers.Dense(10, activation=tf.nn.softmax)])\n",
        "  model.compile(optimizer = tf.keras.optimizers.Adam(),\n",
        "                loss = 'sparse_categorical_crossentropy',\n",
        "              metrics=['accuracy'])\n",
        "  return model\n"
      ],
      "execution_count": 0,
      "outputs": []
    },
    {
      "cell_type": "code",
      "metadata": {
        "id": "72dL0OCsej6P",
        "colab_type": "code",
        "colab": {}
      },
      "source": [
        "models= create_model()"
      ],
      "execution_count": 0,
      "outputs": []
    },
    {
      "cell_type": "markdown",
      "metadata": {
        "id": "bF70H23VpiHW",
        "colab_type": "text"
      },
      "source": [
        "**Specify the path where we want to save the checkpoint files**"
      ]
    },
    {
      "cell_type": "code",
      "metadata": {
        "id": "NcDq9odVjXQm",
        "colab_type": "code",
        "colab": {}
      },
      "source": [
        "checkpoint_path = \"training_1/cp.ckpt\"\n",
        "checkpoint_dir = os.path.dirname(checkpoint_path)"
      ],
      "execution_count": 0,
      "outputs": []
    },
    {
      "cell_type": "markdown",
      "metadata": {
        "id": "v9HHAzZdp7oq",
        "colab_type": "text"
      },
      "source": [
        "**Create a Callback that saves the model's weights**"
      ]
    },
    {
      "cell_type": "code",
      "metadata": {
        "id": "pCGNHdBlicDk",
        "colab_type": "code",
        "colab": {}
      },
      "source": [
        "# Create a callback that saves the model's weights\n",
        "cp_callback = tf.keras.callbacks.ModelCheckpoint(filepath=checkpoint_path,\n",
        "                                                 save_weights_only=True,\n",
        "                                                 verbose=1)"
      ],
      "execution_count": 0,
      "outputs": []
    },
    {
      "cell_type": "markdown",
      "metadata": {
        "id": "2YYgQQUqqdDU",
        "colab_type": "text"
      },
      "source": [
        "**Apply the callback function during the training**"
      ]
    },
    {
      "cell_type": "code",
      "metadata": {
        "id": "wczLOR0ohTIu",
        "colab_type": "code",
        "colab": {
          "base_uri": "https://localhost:8080/",
          "height": 1000
        },
        "outputId": "b145b267-8537-45ec-8471-d8a7cf156759"
      },
      "source": [
        "models.fit(train_images, train_labels, epochs=15,\n",
        "          validation_data=(test_images,test_labels),\n",
        "          callbacks=[cp_callback])"
      ],
      "execution_count": 10,
      "outputs": [
        {
          "output_type": "stream",
          "text": [
            "Epoch 1/15\n",
            "1864/1875 [============================>.] - ETA: 0s - loss: 0.5000 - accuracy: 0.8246\n",
            "Epoch 00001: saving model to training_1/cp.ckpt\n",
            "1875/1875 [==============================] - 4s 2ms/step - loss: 0.4989 - accuracy: 0.8249 - val_loss: 0.4301 - val_accuracy: 0.8464\n",
            "Epoch 2/15\n",
            "1869/1875 [============================>.] - ETA: 0s - loss: 0.3767 - accuracy: 0.8643\n",
            "Epoch 00002: saving model to training_1/cp.ckpt\n",
            "1875/1875 [==============================] - 4s 2ms/step - loss: 0.3766 - accuracy: 0.8644 - val_loss: 0.3773 - val_accuracy: 0.8642\n",
            "Epoch 3/15\n",
            "1858/1875 [============================>.] - ETA: 0s - loss: 0.3379 - accuracy: 0.8757\n",
            "Epoch 00003: saving model to training_1/cp.ckpt\n",
            "1875/1875 [==============================] - 3s 2ms/step - loss: 0.3382 - accuracy: 0.8756 - val_loss: 0.3863 - val_accuracy: 0.8636\n",
            "Epoch 4/15\n",
            "1856/1875 [============================>.] - ETA: 0s - loss: 0.3127 - accuracy: 0.8866\n",
            "Epoch 00004: saving model to training_1/cp.ckpt\n",
            "1875/1875 [==============================] - 3s 2ms/step - loss: 0.3128 - accuracy: 0.8865 - val_loss: 0.3556 - val_accuracy: 0.8732\n",
            "Epoch 5/15\n",
            "1870/1875 [============================>.] - ETA: 0s - loss: 0.2967 - accuracy: 0.8906\n",
            "Epoch 00005: saving model to training_1/cp.ckpt\n",
            "1875/1875 [==============================] - 4s 2ms/step - loss: 0.2965 - accuracy: 0.8907 - val_loss: 0.3592 - val_accuracy: 0.8700\n",
            "Epoch 6/15\n",
            "1864/1875 [============================>.] - ETA: 0s - loss: 0.2803 - accuracy: 0.8961\n",
            "Epoch 00006: saving model to training_1/cp.ckpt\n",
            "1875/1875 [==============================] - 4s 2ms/step - loss: 0.2806 - accuracy: 0.8961 - val_loss: 0.3506 - val_accuracy: 0.8691\n",
            "Epoch 7/15\n",
            "1869/1875 [============================>.] - ETA: 0s - loss: 0.2682 - accuracy: 0.9011\n",
            "Epoch 00007: saving model to training_1/cp.ckpt\n",
            "1875/1875 [==============================] - 4s 2ms/step - loss: 0.2686 - accuracy: 0.9010 - val_loss: 0.3362 - val_accuracy: 0.8793\n",
            "Epoch 8/15\n",
            "1851/1875 [============================>.] - ETA: 0s - loss: 0.2582 - accuracy: 0.9040\n",
            "Epoch 00008: saving model to training_1/cp.ckpt\n",
            "1875/1875 [==============================] - 3s 2ms/step - loss: 0.2585 - accuracy: 0.9039 - val_loss: 0.3282 - val_accuracy: 0.8828\n",
            "Epoch 9/15\n",
            "1855/1875 [============================>.] - ETA: 0s - loss: 0.2485 - accuracy: 0.9074\n",
            "Epoch 00009: saving model to training_1/cp.ckpt\n",
            "1875/1875 [==============================] - 3s 2ms/step - loss: 0.2481 - accuracy: 0.9075 - val_loss: 0.3357 - val_accuracy: 0.8839\n",
            "Epoch 10/15\n",
            "1862/1875 [============================>.] - ETA: 0s - loss: 0.2390 - accuracy: 0.9098\n",
            "Epoch 00010: saving model to training_1/cp.ckpt\n",
            "1875/1875 [==============================] - 4s 2ms/step - loss: 0.2392 - accuracy: 0.9097 - val_loss: 0.3406 - val_accuracy: 0.8794\n",
            "Epoch 11/15\n",
            "1864/1875 [============================>.] - ETA: 0s - loss: 0.2331 - accuracy: 0.9127\n",
            "Epoch 00011: saving model to training_1/cp.ckpt\n",
            "1875/1875 [==============================] - 4s 2ms/step - loss: 0.2331 - accuracy: 0.9127 - val_loss: 0.3401 - val_accuracy: 0.8850\n",
            "Epoch 12/15\n",
            "1853/1875 [============================>.] - ETA: 0s - loss: 0.2253 - accuracy: 0.9154\n",
            "Epoch 00012: saving model to training_1/cp.ckpt\n",
            "1875/1875 [==============================] - 4s 2ms/step - loss: 0.2255 - accuracy: 0.9154 - val_loss: 0.3363 - val_accuracy: 0.8819\n",
            "Epoch 13/15\n",
            "1853/1875 [============================>.] - ETA: 0s - loss: 0.2186 - accuracy: 0.9188\n",
            "Epoch 00013: saving model to training_1/cp.ckpt\n",
            "1875/1875 [==============================] - 4s 2ms/step - loss: 0.2185 - accuracy: 0.9188 - val_loss: 0.3601 - val_accuracy: 0.8760\n",
            "Epoch 14/15\n",
            "1872/1875 [============================>.] - ETA: 0s - loss: 0.2110 - accuracy: 0.9219\n",
            "Epoch 00014: saving model to training_1/cp.ckpt\n",
            "1875/1875 [==============================] - 3s 2ms/step - loss: 0.2110 - accuracy: 0.9219 - val_loss: 0.3541 - val_accuracy: 0.8846\n",
            "Epoch 15/15\n",
            "1861/1875 [============================>.] - ETA: 0s - loss: 0.2050 - accuracy: 0.9240\n",
            "Epoch 00015: saving model to training_1/cp.ckpt\n",
            "1875/1875 [==============================] - 4s 2ms/step - loss: 0.2050 - accuracy: 0.9240 - val_loss: 0.3472 - val_accuracy: 0.8834\n"
          ],
          "name": "stdout"
        },
        {
          "output_type": "execute_result",
          "data": {
            "text/plain": [
              "<tensorflow.python.keras.callbacks.History at 0x7fc560109a58>"
            ]
          },
          "metadata": {
            "tags": []
          },
          "execution_count": 10
        }
      ]
    },
    {
      "cell_type": "markdown",
      "metadata": {
        "id": "zxGKc_VwrzNt",
        "colab_type": "text"
      },
      "source": [
        "This creates a single collection of TensorFlow checkpoint files that are updated at the end of each epoch:"
      ]
    },
    {
      "cell_type": "code",
      "metadata": {
        "id": "9VVLbfbNhgbl",
        "colab_type": "code",
        "colab": {
          "base_uri": "https://localhost:8080/",
          "height": 51
        },
        "outputId": "bcfc9bf0-fc9f-4220-c8f2-9a0ba6ce0d50"
      },
      "source": [
        "ls {checkpoint_dir}"
      ],
      "execution_count": 11,
      "outputs": [
        {
          "output_type": "stream",
          "text": [
            "checkpoint                   cp.ckpt.data-00001-of-00002\n",
            "cp.ckpt.data-00000-of-00002  cp.ckpt.index\n"
          ],
          "name": "stdout"
        }
      ]
    },
    {
      "cell_type": "markdown",
      "metadata": {
        "id": "qSMKTleKun6y",
        "colab_type": "text"
      },
      "source": [
        "**Evaluate the model on test data**"
      ]
    },
    {
      "cell_type": "code",
      "metadata": {
        "id": "LvSTYHvYurO6",
        "colab_type": "code",
        "colab": {
          "base_uri": "https://localhost:8080/",
          "height": 34
        },
        "outputId": "05261fa4-0f22-4ecf-8d13-4e397392851b"
      },
      "source": [
        "loss,acc = models.evaluate(test_images,test_labels,verbose =2)"
      ],
      "execution_count": 13,
      "outputs": [
        {
          "output_type": "stream",
          "text": [
            "313/313 - 0s - loss: 0.3472 - accuracy: 0.8834\n"
          ],
          "name": "stdout"
        }
      ]
    },
    {
      "cell_type": "code",
      "metadata": {
        "id": "wgx4s7WDsBYW",
        "colab_type": "code",
        "colab": {}
      },
      "source": [
        "# create a model\n",
        "model_1 = create_model()"
      ],
      "execution_count": 0,
      "outputs": []
    },
    {
      "cell_type": "code",
      "metadata": {
        "id": "K2Ov1k45w2-A",
        "colab_type": "code",
        "colab": {}
      },
      "source": [
        ""
      ],
      "execution_count": 0,
      "outputs": []
    }
  ]
}